{
 "cells": [
  {
   "cell_type": "markdown",
   "metadata": {},
   "source": [
    "## Libraries"
   ]
  },
  {
   "cell_type": "code",
   "execution_count": 3,
   "metadata": {},
   "outputs": [],
   "source": [
    "import numpy as np\n",
    "import pandas as pd\n",
    "import seaborn as sns\n",
    "from influxdb import InfluxDBClient, DataFrameClient"
   ]
  },
  {
   "cell_type": "markdown",
   "metadata": {},
   "source": [
    "## Load Data"
   ]
  },
  {
   "cell_type": "code",
   "execution_count": 4,
   "metadata": {},
   "outputs": [],
   "source": [
    "influxClient = DataFrameClient(host='css20.dmz.teco.edu', port=80, database='browser',username=\"user\", password=\"pass\")\n",
    "data = influxClient.query(\"select * FROM devicemotion\")[\"devicemotion\"]"
   ]
  },
  {
   "cell_type": "code",
   "execution_count": 5,
   "metadata": {},
   "outputs": [
    {
     "data": {
      "text/plain": [
       "Index(['acceleration.x', 'acceleration.y', 'acceleration.z',\n",
       "       'accelerationIncludingGravity.x', 'accelerationIncludingGravity.y',\n",
       "       'accelerationIncludingGravity.z', 'label', 'mobile',\n",
       "       'rotationRate.alpha', 'rotationRate.beta', 'rotationRate.gamma',\n",
       "       'subject', 'useragent'],\n",
       "      dtype='object')"
      ]
     },
     "execution_count": 5,
     "metadata": {},
     "output_type": "execute_result"
    }
   ],
   "source": [
    "data.columns"
   ]
  },
  {
   "cell_type": "code",
   "execution_count": 6,
   "metadata": {},
   "outputs": [
    {
     "data": {
      "text/html": [
       "<div>\n",
       "<style scoped>\n",
       "    .dataframe tbody tr th:only-of-type {\n",
       "        vertical-align: middle;\n",
       "    }\n",
       "\n",
       "    .dataframe tbody tr th {\n",
       "        vertical-align: top;\n",
       "    }\n",
       "\n",
       "    .dataframe thead th {\n",
       "        text-align: right;\n",
       "    }\n",
       "</style>\n",
       "<table border=\"1\" class=\"dataframe\">\n",
       "  <thead>\n",
       "    <tr style=\"text-align: right;\">\n",
       "      <th></th>\n",
       "      <th>acceleration.x</th>\n",
       "      <th>acceleration.y</th>\n",
       "      <th>acceleration.z</th>\n",
       "      <th>accelerationIncludingGravity.x</th>\n",
       "      <th>accelerationIncludingGravity.y</th>\n",
       "      <th>accelerationIncludingGravity.z</th>\n",
       "      <th>label</th>\n",
       "      <th>mobile</th>\n",
       "      <th>rotationRate.alpha</th>\n",
       "      <th>rotationRate.beta</th>\n",
       "      <th>rotationRate.gamma</th>\n",
       "      <th>subject</th>\n",
       "      <th>useragent</th>\n",
       "    </tr>\n",
       "  </thead>\n",
       "  <tbody>\n",
       "    <tr>\n",
       "      <th>2020-05-18 15:38:31.330200+00:00</th>\n",
       "      <td>0.0514</td>\n",
       "      <td>-0.4303</td>\n",
       "      <td>1.4837</td>\n",
       "      <td>0.038307</td>\n",
       "      <td>5.439626</td>\n",
       "      <td>9.825804</td>\n",
       "      <td>testing</td>\n",
       "      <td>UnknownPhone</td>\n",
       "      <td>-13.115</td>\n",
       "      <td>-43.004999</td>\n",
       "      <td>0.488</td>\n",
       "      <td>10b5c</td>\n",
       "      <td>Mozilla/5.0 (Linux; Android 7.0; FRD-L19) Appl...</td>\n",
       "    </tr>\n",
       "    <tr>\n",
       "      <th>2020-05-18 15:38:31.348400+00:00</th>\n",
       "      <td>0.6009</td>\n",
       "      <td>-0.1249</td>\n",
       "      <td>1.0312</td>\n",
       "      <td>0.172383</td>\n",
       "      <td>5.477933</td>\n",
       "      <td>9.174581</td>\n",
       "      <td>testing</td>\n",
       "      <td>UnknownPhone</td>\n",
       "      <td>-2.623</td>\n",
       "      <td>-6.527000</td>\n",
       "      <td>-2.379</td>\n",
       "      <td>10b5c</td>\n",
       "      <td>Mozilla/5.0 (Linux; Android 7.0; FRD-L19) Appl...</td>\n",
       "    </tr>\n",
       "  </tbody>\n",
       "</table>\n",
       "</div>"
      ],
      "text/plain": [
       "                                  acceleration.x  acceleration.y  \\\n",
       "2020-05-18 15:38:31.330200+00:00          0.0514         -0.4303   \n",
       "2020-05-18 15:38:31.348400+00:00          0.6009         -0.1249   \n",
       "\n",
       "                                  acceleration.z  \\\n",
       "2020-05-18 15:38:31.330200+00:00          1.4837   \n",
       "2020-05-18 15:38:31.348400+00:00          1.0312   \n",
       "\n",
       "                                  accelerationIncludingGravity.x  \\\n",
       "2020-05-18 15:38:31.330200+00:00                        0.038307   \n",
       "2020-05-18 15:38:31.348400+00:00                        0.172383   \n",
       "\n",
       "                                  accelerationIncludingGravity.y  \\\n",
       "2020-05-18 15:38:31.330200+00:00                        5.439626   \n",
       "2020-05-18 15:38:31.348400+00:00                        5.477933   \n",
       "\n",
       "                                  accelerationIncludingGravity.z    label  \\\n",
       "2020-05-18 15:38:31.330200+00:00                        9.825804  testing   \n",
       "2020-05-18 15:38:31.348400+00:00                        9.174581  testing   \n",
       "\n",
       "                                        mobile  rotationRate.alpha  \\\n",
       "2020-05-18 15:38:31.330200+00:00  UnknownPhone             -13.115   \n",
       "2020-05-18 15:38:31.348400+00:00  UnknownPhone              -2.623   \n",
       "\n",
       "                                  rotationRate.beta  rotationRate.gamma  \\\n",
       "2020-05-18 15:38:31.330200+00:00         -43.004999               0.488   \n",
       "2020-05-18 15:38:31.348400+00:00          -6.527000              -2.379   \n",
       "\n",
       "                                 subject  \\\n",
       "2020-05-18 15:38:31.330200+00:00   10b5c   \n",
       "2020-05-18 15:38:31.348400+00:00   10b5c   \n",
       "\n",
       "                                                                          useragent  \n",
       "2020-05-18 15:38:31.330200+00:00  Mozilla/5.0 (Linux; Android 7.0; FRD-L19) Appl...  \n",
       "2020-05-18 15:38:31.348400+00:00  Mozilla/5.0 (Linux; Android 7.0; FRD-L19) Appl...  "
      ]
     },
     "execution_count": 6,
     "metadata": {},
     "output_type": "execute_result"
    }
   ],
   "source": [
    "data.head(2)"
   ]
  },
  {
   "cell_type": "code",
   "execution_count": 7,
   "metadata": {},
   "outputs": [
    {
     "data": {
      "text/plain": [
       "(346487, 13)"
      ]
     },
     "execution_count": 7,
     "metadata": {},
     "output_type": "execute_result"
    }
   ],
   "source": [
    "data.shape"
   ]
  },
  {
   "cell_type": "markdown",
   "metadata": {},
   "source": [
    "## Data Cleaning"
   ]
  },
  {
   "cell_type": "code",
   "execution_count": 8,
   "metadata": {},
   "outputs": [
    {
     "data": {
      "text/plain": [
       "(179951, 13)"
      ]
     },
     "execution_count": 8,
     "metadata": {},
     "output_type": "execute_result"
    }
   ],
   "source": [
    "data = data.loc['2020-07-01':].dropna()\n",
    "data.shape"
   ]
  },
  {
   "cell_type": "markdown",
   "metadata": {},
   "source": [
    "## Preprocessing"
   ]
  },
  {
   "cell_type": "code",
   "execution_count": 9,
   "metadata": {},
   "outputs": [],
   "source": [
    "# Extract labels and subjects\n",
    "labels = data['label'].unique()[1:] # drop \"testing\"-label\n",
    "subjects = data['subject'].unique()\n",
    "\n",
    "# Group data according to labels and subjects\n",
    "grouped_data = {}\n",
    "for subject in subjects:\n",
    "    grouped_data[subject] = {}\n",
    "    subject_data = data[data['subject'] == subject]\n",
    "    for label in labels:\n",
    "        grouped_data[subject][label] = subject_data[subject_data[\"label\"] == label]"
   ]
  },
  {
   "cell_type": "markdown",
   "metadata": {},
   "source": [
    "## Windowing"
   ]
  },
  {
   "cell_type": "code",
   "execution_count": 10,
   "metadata": {},
   "outputs": [],
   "source": [
    "def minmax(data):\n",
    "    return np.max(data)-np.min(data)"
   ]
  },
  {
   "cell_type": "code",
   "execution_count": 11,
   "metadata": {},
   "outputs": [],
   "source": [
    "# Prepare aggregation\n",
    "numeric_columns = {}\n",
    "for col, dtype in zip(data.columns, data.dtypes):\n",
    "    if dtype == 'float64':\n",
    "        numeric_columns[col] = ['max', 'mean', 'min',\"std\", \"var\",minmax]"
   ]
  },
  {
   "cell_type": "code",
   "execution_count": 12,
   "metadata": {},
   "outputs": [],
   "source": [
    "aggregatedDict = {}\n",
    "for subject in subjects:\n",
    "    aggregatedDict[subject] = {}\n",
    "    for label in labels:\n",
    "        # check if part is empty\n",
    "        if(not grouped_data[subject][label].empty):\n",
    "            # use resample for frequency conversion \n",
    "            aggregatedDict[subject][label] = grouped_data[subject][label].resample('1s').agg(numeric_columns).dropna()"
   ]
  },
  {
   "cell_type": "markdown",
   "metadata": {},
   "source": [
    "## Data Transformation"
   ]
  },
  {
   "cell_type": "code",
   "execution_count": 13,
   "metadata": {},
   "outputs": [],
   "source": [
    "# groups for Leave-One-Subject-Out-CV\n",
    "groups = []\n",
    "\n",
    "# Transform data into ungrouped and flat table\n",
    "data = pd.DataFrame()\n",
    "for subject in subjects:\n",
    "    for label in labels:\n",
    "        if label in aggregatedDict[subject]:\n",
    "            curr_data = aggregatedDict[subject][label]\n",
    "            curr_labels = len(curr_data)*[label]\n",
    "            curr_data[\"label\"] = curr_labels\n",
    "            data = data.append(curr_data)\n",
    "            groups.extend(len(curr_data)*[subject])\n",
    "# append groups\n",
    "data[\"group\"] = groups        "
   ]
  },
  {
   "cell_type": "markdown",
   "metadata": {},
   "source": [
    "# Train-Test Split"
   ]
  },
  {
   "cell_type": "code",
   "execution_count": 14,
   "metadata": {},
   "outputs": [],
   "source": [
    "# Seed\n",
    "np.random.seed(1234)\n",
    "\n",
    "# Draw random Training-Data-Indices\n",
    "number_subjects = len(subjects)\n",
    "size = int(0.8*number_subjects)\n",
    "\n",
    "# Extract Train/Test-Subjects\n",
    "train_subjects = np.random.choice(subjects, size=size, replace=False)\n",
    "test_subjects = list(set(subjects)-set(train_subjects))\n",
    "\n",
    "# Setup train and test data\n",
    "train_data = pd.DataFrame()\n",
    "test_data = pd.DataFrame()\n",
    "\n",
    "for train_subject in train_subjects:\n",
    "    train_data= train_data.append(data.loc[data[\"group\"] == train_subject])\n",
    "    \n",
    "for test_subject in test_subjects:\n",
    "    test_data= test_data.append(data.loc[data[\"group\"] == test_subject])\n",
    "    \n",
    "# finalize train / test data\n",
    "x_train = train_data.drop([\"group\", \"label\"], axis=\"columns\")\n",
    "x_test = test_data.drop([\"group\", \"label\"], axis=\"columns\")\n",
    "y_train = train_data[\"label\"]\n",
    "y_test = test_data[\"label\"]"
   ]
  },
  {
   "cell_type": "markdown",
   "metadata": {},
   "source": [
    "## Train-Test Split (Leave-one-Subject-out)"
   ]
  },
  {
   "cell_type": "markdown",
   "metadata": {},
   "source": [
    "# Excercise 4 Creating a predictor"
   ]
  },
  {
   "cell_type": "code",
   "execution_count": 28,
   "metadata": {},
   "outputs": [],
   "source": [
    "from sklearn.neural_network import MLPClassifier\n",
    "from sklearn.model_selection import cross_validate\n",
    "from sklearn.ensemble import RandomForestClassifier\n",
    "from sklearn.model_selection import LeaveOneGroupOut\n",
    "from sklearn.feature_selection import RFE"
   ]
  },
  {
   "cell_type": "markdown",
   "metadata": {},
   "source": [
    "## 4.1 10-Fold-CV"
   ]
  },
  {
   "cell_type": "code",
   "execution_count": 24,
   "metadata": {
    "scrolled": true
   },
   "outputs": [
    {
     "name": "stdout",
     "output_type": "stream",
     "text": [
      "MLP 10-Fold-CV-Accuracy:  0.7536022893053529\n",
      "Random Forest 10-Fold-CV-Accuracy:  0.7250084165637976\n"
     ]
    }
   ],
   "source": [
    "# MLP\n",
    "mlp = MLPClassifier(hidden_layer_sizes=(50,), max_iter=100)\n",
    "mlp_res = cross_validate(mlp, x_train, y_train, n_jobs=2, cv=10,\n",
    "                         return_estimator=False, return_train_score=True)\n",
    "\n",
    "# RF\n",
    "rf = RandomForestClassifier(n_estimators=100, max_depth=3)\n",
    "rf_res = cross_validate(rf, x_train, y_train, n_jobs=2, cv=10,\n",
    "                         return_estimator=False, return_train_score=True)\n",
    "\n",
    "print(\"MLP 10-Fold-CV-Accuracy: \", mlp_res[\"test_score\"].mean())\n",
    "print(\"Random Forest 10-Fold-CV-Accuracy: \", rf_res[\"test_score\"].mean())"
   ]
  },
  {
   "cell_type": "markdown",
   "metadata": {},
   "source": [
    "## 4.2 Leave-One-Subject-Out-CV"
   ]
  },
  {
   "cell_type": "code",
   "execution_count": 27,
   "metadata": {
    "scrolled": true
   },
   "outputs": [
    {
     "name": "stdout",
     "output_type": "stream",
     "text": [
      "MLP LOGO-CV-Accuracy:  0.6974314865035531\n",
      "Random Forest LOGO-CV-Accuracy:  0.7129975140246855\n"
     ]
    }
   ],
   "source": [
    "logo = LeaveOneGroupOut()\n",
    "logo.get_n_splits(groups=train_data[\"group\"].values)\n",
    "\n",
    "# MLP\n",
    "mlp = MLPClassifier(hidden_layer_sizes=(50,), max_iter=100)\n",
    "mlp_res = cross_validate(mlp, x_train, y_train, cv=logo, n_jobs=2, groups = train_data[\"group\"].values,\n",
    "                         return_estimator=False, return_train_score=True)\n",
    "\n",
    "# RF\n",
    "rf = RandomForestClassifier(n_estimators=100, max_depth=3)\n",
    "rf_res = cross_validate(rf, x_train, y_train, cv=logo, n_jobs=2, groups = train_data[\"group\"].values,\n",
    "                        return_estimator=False, return_train_score=True)\n",
    "\n",
    "print(\"MLP LOGO-CV-Accuracy: \", mlp_res[\"test_score\"].mean())\n",
    "print(\"Random Forest LOGO-CV-Accuracy: \", rf_res[\"test_score\"].mean())"
   ]
  },
  {
   "cell_type": "markdown",
   "metadata": {},
   "source": [
    "## 4.3 Recursive Feature Elimination"
   ]
  },
  {
   "cell_type": "code",
   "execution_count": 45,
   "metadata": {
    "scrolled": true
   },
   "outputs": [
    {
     "name": "stdout",
     "output_type": "stream",
     "text": [
      "Random Forest - RFE -  10-Fold-CV-Accuracy:  0.7182246661429694\n"
     ]
    }
   ],
   "source": [
    "rfe = RFE(rf, n_features_to_select=10, step=1, verbose=0)\n",
    "rfe.fit(x_train,y_train)\n",
    "\n",
    "# evaluate\n",
    "selected_features = x_train.columns[rfe.support_]\n",
    "x_train_new = x_train[selected_features]\n",
    "rf_res_new = cross_validate(rf, x_train_new, y_train, n_jobs=2, cv=10,\n",
    "                         return_estimator=False, return_train_score=True)\n",
    "print(\"Random Forest - RFE -  10-Fold-CV-Accuracy: \", rf_res_new[\"test_score\"].mean())"
   ]
  },
  {
   "cell_type": "markdown",
   "metadata": {},
   "source": [
    "# Classifier"
   ]
  },
  {
   "cell_type": "markdown",
   "metadata": {},
   "source": [
    "## 1. MLP"
   ]
  },
  {
   "cell_type": "code",
   "execution_count": 56,
   "metadata": {},
   "outputs": [
    {
     "name": "stdout",
     "output_type": "stream",
     "text": [
      "100%|█████████████████████████████████████████████████| 5/5 [01:08<00:00, 14.36s/trial, best loss: -0.7243126472898666]\n",
      "best: \n",
      "{'hidden_layer_sizes': 19, 'max_iter': 438}\n"
     ]
    },
    {
     "data": {
      "text/plain": [
       "MLPClassifier(hidden_layer_sizes=19, max_iter=438)"
      ]
     },
     "execution_count": 56,
     "metadata": {},
     "output_type": "execute_result"
    }
   ],
   "source": [
    "from hyperopt import Trials, STATUS_OK, tpe, fmin, hp\n",
    "# set seeds\n",
    "np.random.seed(4321)\n",
    "\n",
    "# define space\n",
    "mlp_space = {'hidden_layer_sizes' : hp.quniform('hidden_layer_sizes',5,50,1),\n",
    "             'max_iter' : hp.quniform(\"max_iter\",10,500,1)}\n",
    "max_iters = 10\n",
    "\n",
    "def mlp_opt(params):\n",
    "    from sklearn.model_selection import LeaveOneGroupOut\n",
    "    from sklearn.neural_network import MLPClassifier\n",
    "    from sklearn.model_selection import cross_validate\n",
    "    \n",
    "    params[\"hidden_layer_sizes\"] = int(params[\"hidden_layer_sizes\"])\n",
    "    params[\"max_iter\"] = int(params[\"max_iter\"])\n",
    "    \n",
    "    mlp = MLPClassifier(hidden_layer_sizes= params[\"hidden_layer_sizes\"], max_iter= params[\"max_iter\"])\n",
    "    mlp = cross_validate(mlp, x_train_new, y_train, cv=10, n_jobs=2,\n",
    "                         return_estimator=False, return_train_score=True)\n",
    "    \n",
    "    score = -1* mlp[\"test_score\"].mean()\n",
    "    return {'loss': score, 'status': STATUS_OK, 'model': None, 'params': params}\n",
    "\n",
    "### optimization\n",
    "trials = Trials()\n",
    "best_mlp = fmin(mlp_opt, mlp_space, algo=tpe.suggest, max_evals= max_iters,trials=trials,\n",
    "                rstate= np.random.RandomState(1234))\n",
    "print('best: ')\n",
    "### Extract params\n",
    "best_MLP_params = trials.results[np.argmin([r['loss'] for r in trials.results])]['params']\n",
    "print(best_MLP_params)\n",
    "# Extract Model\n",
    "MLP_model = MLPClassifier(hidden_layer_sizes = best_MLP_params[\"hidden_layer_sizes\"], max_iter = best_MLP_params[\"max_iter\"])\n",
    "MLP_model.fit(x_train_new, y_train)"
   ]
  },
  {
   "cell_type": "markdown",
   "metadata": {},
   "source": [
    "## 2. RF"
   ]
  },
  {
   "cell_type": "code",
   "execution_count": 57,
   "metadata": {},
   "outputs": [
    {
     "name": "stdout",
     "output_type": "stream",
     "text": [
      "100%|███████████████████████████████████████████████| 10/10 [00:23<00:00,  1.98s/trial, best loss: -0.7859106722028952]\n",
      "best: \n",
      "{'max_depth': 4, 'n_estimators': 64}\n"
     ]
    },
    {
     "data": {
      "text/plain": [
       "RandomForestClassifier(max_depth=4, n_estimators=64)"
      ]
     },
     "execution_count": 57,
     "metadata": {},
     "output_type": "execute_result"
    }
   ],
   "source": [
    "from hyperopt import Trials, STATUS_OK, tpe, fmin, hp\n",
    "# set seeds\n",
    "np.random.seed(4321)\n",
    "\n",
    "# define space\n",
    "rf_space = {'n_estimators' : hp.quniform('n_estimators',5,200,1),\n",
    "             'max_depth' : hp.quniform(\"max_depth\",1,4,1)}\n",
    "max_iters = 10\n",
    "\n",
    "def rf_opt(params):\n",
    "    from sklearn.model_selection import LeaveOneGroupOut\n",
    "    from sklearn.neural_network import MLPClassifier\n",
    "    from sklearn.model_selection import cross_validate\n",
    "    \n",
    "    params[\"n_estimators\"] = int(params[\"n_estimators\"])\n",
    "    params[\"max_depth\"] = int(params[\"max_depth\"])\n",
    "    \n",
    "    rf = RandomForestClassifier(n_estimators=params[\"n_estimators\"], max_depth=params[\"max_depth\"])\n",
    "    rf = cross_validate(rf, x_train_new, y_train, cv=10, n_jobs=2,\n",
    "                         return_estimator=False, return_train_score=True)\n",
    "    \n",
    "    score = -1* rf[\"test_score\"].mean()\n",
    "    return {'loss': score, 'status': STATUS_OK, 'model': None, 'params': params}\n",
    "\n",
    "### optimization\n",
    "trials = Trials()\n",
    "best_rf = fmin(rf_opt, rf_space, algo=tpe.suggest, max_evals= max_iters,trials=trials,\n",
    "                rstate= np.random.RandomState(1234))\n",
    "print('best: ')\n",
    "### Extract params\n",
    "best_RF_params = trials.results[np.argmin([r['loss'] for r in trials.results])]['params']\n",
    "print(best_RF_params)\n",
    "# Extract Model\n",
    "RF_model = RandomForestClassifier(n_estimators = best_RF_params[\"n_estimators\"], max_depth = best_RF_params[\"max_depth\"])\n",
    "RF_model.fit(x_train_new, y_train)"
   ]
  }
 ],
 "metadata": {
  "kernelspec": {
   "display_name": "Python 3",
   "language": "python",
   "name": "python3"
  },
  "language_info": {
   "codemirror_mode": {
    "name": "ipython",
    "version": 3
   },
   "file_extension": ".py",
   "mimetype": "text/x-python",
   "name": "python",
   "nbconvert_exporter": "python",
   "pygments_lexer": "ipython3",
   "version": "3.7.3"
  }
 },
 "nbformat": 4,
 "nbformat_minor": 2
}
