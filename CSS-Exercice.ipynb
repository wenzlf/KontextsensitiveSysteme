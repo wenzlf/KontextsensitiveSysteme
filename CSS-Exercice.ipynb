{
 "cells": [
  {
   "cell_type": "markdown",
   "metadata": {},
   "source": [
    "# Excercise 1 Context"
   ]
  },
  {
   "cell_type": "markdown",
   "metadata": {},
   "source": [
    "1. Sketch a contextsensitive Application\n",
    "\n",
    "2. Categorize it according to Schilit (explain why)\n",
    "\n",
    "3. Categorize all relevant context regarding category of context, passive/active and primary/secondary\n",
    "\n",
    "4. Modify a. to be in another class according to Schilit (Tip: You may modify the previous answer if this does not work)"
   ]
  },
  {
   "cell_type": "markdown",
   "metadata": {},
   "source": [
    "# Excercise 2 Sensors"
   ]
  },
  {
   "cell_type": "markdown",
   "metadata": {},
   "source": [
    "WebApp"
   ]
  },
  {
   "cell_type": "markdown",
   "metadata": {},
   "source": [
    "# Excercise 3 Calculating features"
   ]
  },
  {
   "cell_type": "code",
   "execution_count": 1,
   "metadata": {},
   "outputs": [],
   "source": [
    "import numpy as np\n",
    "import pandas as pd\n",
    "import seaborn as sns\n",
    "from influxdb import InfluxDBClient, DataFrameClient"
   ]
  },
  {
   "cell_type": "markdown",
   "metadata": {},
   "source": [
    "## 3.1 Load Data"
   ]
  },
  {
   "cell_type": "code",
   "execution_count": 2,
   "metadata": {},
   "outputs": [],
   "source": [
    "# all data in browser database\n",
    "influxClient = DataFrameClient(host='css20.dmz.teco.edu', port=80, database='browser',username=\"user\", password=\"pass\")\n",
    "data = influxClient.query(\"select * FROM devicemotion\")[\"devicemotion\"]"
   ]
  },
  {
   "cell_type": "code",
   "execution_count": 3,
   "metadata": {},
   "outputs": [],
   "source": [
    "# own recorded data\n",
    "influxClient = DataFrameClient(host='css20.dmz.teco.edu', port=80, database='motion_data',username=\"user\", password=\"pass\")\n",
    "own_data = influxClient.query(\"select * FROM devicemotion\")[\"devicemotion\"]"
   ]
  },
  {
   "cell_type": "code",
   "execution_count": 4,
   "metadata": {},
   "outputs": [
    {
     "data": {
      "text/plain": [
       "Index(['acceleration.x', 'acceleration.y', 'acceleration.z',\n",
       "       'accelerationIncludingGravity.x', 'accelerationIncludingGravity.y',\n",
       "       'accelerationIncludingGravity.z', 'label', 'mobile',\n",
       "       'rotationRate.alpha', 'rotationRate.beta', 'rotationRate.gamma',\n",
       "       'subject', 'useragent'],\n",
       "      dtype='object')"
      ]
     },
     "execution_count": 4,
     "metadata": {},
     "output_type": "execute_result"
    }
   ],
   "source": [
    "data.columns"
   ]
  },
  {
   "cell_type": "code",
   "execution_count": 5,
   "metadata": {},
   "outputs": [
    {
     "data": {
      "text/html": [
       "<div>\n",
       "<style scoped>\n",
       "    .dataframe tbody tr th:only-of-type {\n",
       "        vertical-align: middle;\n",
       "    }\n",
       "\n",
       "    .dataframe tbody tr th {\n",
       "        vertical-align: top;\n",
       "    }\n",
       "\n",
       "    .dataframe thead th {\n",
       "        text-align: right;\n",
       "    }\n",
       "</style>\n",
       "<table border=\"1\" class=\"dataframe\">\n",
       "  <thead>\n",
       "    <tr style=\"text-align: right;\">\n",
       "      <th></th>\n",
       "      <th>acceleration.x</th>\n",
       "      <th>acceleration.y</th>\n",
       "      <th>acceleration.z</th>\n",
       "      <th>accelerationIncludingGravity.x</th>\n",
       "      <th>accelerationIncludingGravity.y</th>\n",
       "      <th>accelerationIncludingGravity.z</th>\n",
       "      <th>label</th>\n",
       "      <th>mobile</th>\n",
       "      <th>rotationRate.alpha</th>\n",
       "      <th>rotationRate.beta</th>\n",
       "      <th>rotationRate.gamma</th>\n",
       "      <th>subject</th>\n",
       "      <th>useragent</th>\n",
       "    </tr>\n",
       "  </thead>\n",
       "  <tbody>\n",
       "    <tr>\n",
       "      <th>2020-05-18 15:38:31.330200+00:00</th>\n",
       "      <td>0.0514</td>\n",
       "      <td>-0.4303</td>\n",
       "      <td>1.4837</td>\n",
       "      <td>0.038307</td>\n",
       "      <td>5.439626</td>\n",
       "      <td>9.825804</td>\n",
       "      <td>testing</td>\n",
       "      <td>UnknownPhone</td>\n",
       "      <td>-13.115</td>\n",
       "      <td>-43.004999</td>\n",
       "      <td>0.488</td>\n",
       "      <td>10b5c</td>\n",
       "      <td>Mozilla/5.0 (Linux; Android 7.0; FRD-L19) Appl...</td>\n",
       "    </tr>\n",
       "    <tr>\n",
       "      <th>2020-05-18 15:38:31.348400+00:00</th>\n",
       "      <td>0.6009</td>\n",
       "      <td>-0.1249</td>\n",
       "      <td>1.0312</td>\n",
       "      <td>0.172383</td>\n",
       "      <td>5.477933</td>\n",
       "      <td>9.174581</td>\n",
       "      <td>testing</td>\n",
       "      <td>UnknownPhone</td>\n",
       "      <td>-2.623</td>\n",
       "      <td>-6.527000</td>\n",
       "      <td>-2.379</td>\n",
       "      <td>10b5c</td>\n",
       "      <td>Mozilla/5.0 (Linux; Android 7.0; FRD-L19) Appl...</td>\n",
       "    </tr>\n",
       "  </tbody>\n",
       "</table>\n",
       "</div>"
      ],
      "text/plain": [
       "                                  acceleration.x  acceleration.y  \\\n",
       "2020-05-18 15:38:31.330200+00:00          0.0514         -0.4303   \n",
       "2020-05-18 15:38:31.348400+00:00          0.6009         -0.1249   \n",
       "\n",
       "                                  acceleration.z  \\\n",
       "2020-05-18 15:38:31.330200+00:00          1.4837   \n",
       "2020-05-18 15:38:31.348400+00:00          1.0312   \n",
       "\n",
       "                                  accelerationIncludingGravity.x  \\\n",
       "2020-05-18 15:38:31.330200+00:00                        0.038307   \n",
       "2020-05-18 15:38:31.348400+00:00                        0.172383   \n",
       "\n",
       "                                  accelerationIncludingGravity.y  \\\n",
       "2020-05-18 15:38:31.330200+00:00                        5.439626   \n",
       "2020-05-18 15:38:31.348400+00:00                        5.477933   \n",
       "\n",
       "                                  accelerationIncludingGravity.z    label  \\\n",
       "2020-05-18 15:38:31.330200+00:00                        9.825804  testing   \n",
       "2020-05-18 15:38:31.348400+00:00                        9.174581  testing   \n",
       "\n",
       "                                        mobile  rotationRate.alpha  \\\n",
       "2020-05-18 15:38:31.330200+00:00  UnknownPhone             -13.115   \n",
       "2020-05-18 15:38:31.348400+00:00  UnknownPhone              -2.623   \n",
       "\n",
       "                                  rotationRate.beta  rotationRate.gamma  \\\n",
       "2020-05-18 15:38:31.330200+00:00         -43.004999               0.488   \n",
       "2020-05-18 15:38:31.348400+00:00          -6.527000              -2.379   \n",
       "\n",
       "                                 subject  \\\n",
       "2020-05-18 15:38:31.330200+00:00   10b5c   \n",
       "2020-05-18 15:38:31.348400+00:00   10b5c   \n",
       "\n",
       "                                                                          useragent  \n",
       "2020-05-18 15:38:31.330200+00:00  Mozilla/5.0 (Linux; Android 7.0; FRD-L19) Appl...  \n",
       "2020-05-18 15:38:31.348400+00:00  Mozilla/5.0 (Linux; Android 7.0; FRD-L19) Appl...  "
      ]
     },
     "execution_count": 5,
     "metadata": {},
     "output_type": "execute_result"
    }
   ],
   "source": [
    "data.head(2)"
   ]
  },
  {
   "cell_type": "code",
   "execution_count": 6,
   "metadata": {},
   "outputs": [
    {
     "data": {
      "text/plain": [
       "(346487, 13)"
      ]
     },
     "execution_count": 6,
     "metadata": {},
     "output_type": "execute_result"
    }
   ],
   "source": [
    "data.shape"
   ]
  },
  {
   "cell_type": "code",
   "execution_count": 7,
   "metadata": {},
   "outputs": [
    {
     "data": {
      "text/plain": [
       "(346231, 13)"
      ]
     },
     "execution_count": 7,
     "metadata": {},
     "output_type": "execute_result"
    }
   ],
   "source": [
    "# Select time window\n",
    "data = data.loc['2020-05-01':'2020-10-07'].dropna()\n",
    "data.shape"
   ]
  },
  {
   "cell_type": "markdown",
   "metadata": {},
   "source": [
    "## 3.2 Preprocessing (Windowing / Aggregation)"
   ]
  },
  {
   "cell_type": "code",
   "execution_count": 8,
   "metadata": {},
   "outputs": [],
   "source": [
    "def minmax(data):\n",
    "    return np.max(data)-np.min(data)\n",
    "\n",
    "def transform_data(data, labels, subjects):\n",
    "    ### 3-Step Transformation:\n",
    "    # 1. Grouping using Labels & Subjects\n",
    "    # 2. Aggregation using resample with 1s as time resolution\n",
    "    # 3. Transform data back to pandas dataframe\n",
    "    \n",
    "    ### 1. Group data according to labels and subjects\n",
    "    grouped_data = {}\n",
    "    for subject in subjects:\n",
    "        grouped_data[subject] = {}\n",
    "        subject_data = data[data['subject'] == subject]\n",
    "        for label in labels:\n",
    "            grouped_data[subject][label] = subject_data[subject_data[\"label\"] == label]\n",
    "    \n",
    "    \n",
    "    ### 2. Aggregation using resample\n",
    "    # Prepare aggregation\n",
    "    numeric_columns = {}\n",
    "    for col, dtype in zip(data.columns, data.dtypes):\n",
    "        if dtype == 'float64':\n",
    "            numeric_columns[col] = ['max', 'mean', 'min',\"std\", \"var\",minmax]\n",
    "    \n",
    "    # start aggregation\n",
    "    aggregatedDict = {}\n",
    "    for subject in subjects:\n",
    "        aggregatedDict[subject] = {}\n",
    "        for label in labels:\n",
    "            # check if part is empty\n",
    "            if(not grouped_data[subject][label].empty):\n",
    "                # use resample for frequency conversion \n",
    "                aggregatedDict[subject][label] = grouped_data[subject][label].resample('1s').agg(numeric_columns).dropna()\n",
    "    \n",
    "    ### 3. Transform data into ungrouped and flat table\n",
    "    data = pd.DataFrame()\n",
    "    for subject in subjects:\n",
    "        for label in labels:\n",
    "            if label in aggregatedDict[subject]:\n",
    "                curr_data = aggregatedDict[subject][label]\n",
    "                # add label\n",
    "                curr_data[\"label\"] = len(curr_data)*[label]\n",
    "                # add subject / group\n",
    "                curr_data[\"group\"] = len(curr_data)*[subject]\n",
    "                data = data.append(curr_data)\n",
    "    return data"
   ]
  },
  {
   "cell_type": "code",
   "execution_count": 9,
   "metadata": {},
   "outputs": [],
   "source": [
    "# Extract labels and subjects\n",
    "labels = data['label'].unique()[1:] # drop \"testing\"-label\n",
    "subjects = data['subject'].unique()\n",
    "# Apply transformation\n",
    "data = transform_data(data.copy(), labels, subjects)"
   ]
  },
  {
   "cell_type": "code",
   "execution_count": 10,
   "metadata": {},
   "outputs": [
    {
     "data": {
      "text/plain": [
       "3826"
      ]
     },
     "execution_count": 10,
     "metadata": {},
     "output_type": "execute_result"
    }
   ],
   "source": [
    "len(data)"
   ]
  },
  {
   "cell_type": "markdown",
   "metadata": {},
   "source": [
    "## 3.3 Robust Outlier-Cleansing"
   ]
  },
  {
   "cell_type": "code",
   "execution_count": 11,
   "metadata": {},
   "outputs": [],
   "source": [
    "# RMSE 3D_acceleration\n",
    "minmax_3d_acc = np.sqrt(data[\"acceleration.x\"][\"minmax\"]**2 + data[\"acceleration.y\"][\"minmax\"]**2\n",
    "                        + data[\"acceleration.z\"][\"minmax\"]**2)"
   ]
  },
  {
   "cell_type": "code",
   "execution_count": 12,
   "metadata": {},
   "outputs": [],
   "source": [
    "# Calculate Quantiles\n",
    "Q1 = np.percentile(minmax_3d_acc, 25)  \n",
    "Q3 = np.percentile(minmax_3d_acc, 75) \n",
    "# Calculate IQR\n",
    "IQR = Q3 - Q1 \n",
    "# Calculate bounds\n",
    "low_lim = np.array(Q1 - 3 * IQR)\n",
    "up_lim = np.array(Q3 + 3 * IQR)\n",
    "# Get index of outliers\n",
    "index = np.logical_and(minmax_3d_acc.values >= low_lim, minmax_3d_acc.values <= up_lim)"
   ]
  },
  {
   "cell_type": "code",
   "execution_count": 13,
   "metadata": {},
   "outputs": [],
   "source": [
    "# Remove outliers\n",
    "data = data.loc[index]"
   ]
  },
  {
   "cell_type": "markdown",
   "metadata": {},
   "source": [
    "# 3.4 Visualization of recorded data\n",
    "\n"
   ]
  },
  {
   "cell_type": "code",
   "execution_count": 14,
   "metadata": {},
   "outputs": [],
   "source": [
    "# Extract labels and subjects\n",
    "own_labels = own_data['label'].unique()[1:] # drop \"testing\"-label\n",
    "subjects = [\"EbiDa\"]#own_data['subject'].unique()\n",
    "# Apply transformation\n",
    "own_data = transform_data(own_data.copy(), own_labels, subjects)"
   ]
  },
  {
   "cell_type": "code",
   "execution_count": 15,
   "metadata": {
    "scrolled": true
   },
   "outputs": [
    {
     "data": {
      "image/png": "[encoded data removed]",
      "text/plain": [
       "<Figure size 432x288 with 1 Axes>"
      ]
     },
     "metadata": {},
     "output_type": "display_data"
    }
   ],
   "source": [
    "sns.set(style=\"darkgrid\")\n",
    "ax = sns.countplot(x=\"label\", data=own_data)"
   ]
  },
  {
   "cell_type": "code",
   "execution_count": 16,
   "metadata": {},
   "outputs": [
    {
     "data": {
      "image/png": "[encoded data removed]",
      "text/plain": [
       "<Figure size 432x288 with 1 Axes>"
      ]
     },
     "metadata": {},
     "output_type": "display_data"
    }
   ],
   "source": [
    "x = own_data[\"label\"].values\n",
    "y= np.array([(own_data[\"acceleration.\" + direction][\"minmax\"].values) for direction in [\"x\",\"y\",\"z\"]]).sum(axis=0)\n",
    "# Box-Plot\n",
    "sns.set_style(\"darkgrid\")\n",
    "box_plot = sns.boxplot(x=x,y=y)"
   ]
  },
  {
   "cell_type": "markdown",
   "metadata": {},
   "source": [
    "# Excercise 4 Creating a predictor"
   ]
  },
  {
   "cell_type": "code",
   "execution_count": 17,
   "metadata": {},
   "outputs": [],
   "source": [
    "from sklearn.neural_network import MLPClassifier\n",
    "from sklearn.model_selection import cross_validate\n",
    "from sklearn.ensemble import RandomForestClassifier\n",
    "from sklearn.model_selection import LeaveOneGroupOut\n",
    "from sklearn.feature_selection import RFE"
   ]
  },
  {
   "cell_type": "markdown",
   "metadata": {},
   "source": [
    "## 4.1 Train-Test Split"
   ]
  },
  {
   "cell_type": "code",
   "execution_count": 18,
   "metadata": {},
   "outputs": [],
   "source": [
    "# Seed\n",
    "np.random.seed(2020)\n",
    "\n",
    "# initialize subjects\n",
    "subjects = data[\"group\"].unique()\n",
    "\n",
    "# Draw random Training-Data-Indices\n",
    "number_subjects = len(subjects)\n",
    "size = int(0.8*number_subjects)\n",
    "\n",
    "# Extract Train/Test-Subjects\n",
    "train_subjects = np.random.choice(subjects, size=size, replace=False)\n",
    "test_subjects = list(set(subjects)-set(train_subjects))\n",
    "\n",
    "# Setup train and test data\n",
    "train_data = pd.DataFrame()\n",
    "test_data = pd.DataFrame()\n",
    "\n",
    "for train_subject in train_subjects:\n",
    "    train_data= train_data.append(data.loc[data[\"group\"] == train_subject])\n",
    "    \n",
    "for test_subject in test_subjects:\n",
    "    test_data= test_data.append(data.loc[data[\"group\"] == test_subject])\n",
    "    \n",
    "# finalize train / test data\n",
    "x_train = train_data.drop([\"group\", \"label\"], axis=\"columns\")\n",
    "x_test = test_data.drop([\"group\", \"label\"], axis=\"columns\")\n",
    "y_train = train_data[\"label\"]\n",
    "y_test = test_data[\"label\"]"
   ]
  },
  {
   "cell_type": "markdown",
   "metadata": {},
   "source": [
    "## 4.2 10-Fold-CV"
   ]
  },
  {
   "cell_type": "code",
   "execution_count": 19,
   "metadata": {
    "scrolled": true
   },
   "outputs": [
    {
     "name": "stdout",
     "output_type": "stream",
     "text": [
      "MLP 10-Fold-CV-Accuracy:  0.6962552370192535\n",
      "Random Forest 10-Fold-CV-Accuracy:  0.7510732947323826\n"
     ]
    }
   ],
   "source": [
    "# Seed\n",
    "np.random.seed(1010)\n",
    "\n",
    "# MLP\n",
    "mlp = MLPClassifier(hidden_layer_sizes=(50,), max_iter=100, early_stopping = True, random_state=42)\n",
    "mlp_res = cross_validate(mlp, x_train, y_train, n_jobs=-1, cv=10,\n",
    "                         return_estimator=False, return_train_score=True)\n",
    "\n",
    "# RF\n",
    "rf = RandomForestClassifier(n_estimators=100, max_depth=3, random_state=42)\n",
    "rf_res = cross_validate(rf, x_train, y_train, n_jobs=-1, cv=10,\n",
    "                         return_estimator=False, return_train_score=True)\n",
    "\n",
    "print(\"MLP 10-Fold-CV-Accuracy: \", mlp_res[\"test_score\"].mean())\n",
    "print(\"Random Forest 10-Fold-CV-Accuracy: \", rf_res[\"test_score\"].mean())"
   ]
  },
  {
   "cell_type": "markdown",
   "metadata": {},
   "source": [
    "## 4.3 Leave-One-Subject-Out-CV"
   ]
  },
  {
   "cell_type": "code",
   "execution_count": 20,
   "metadata": {
    "scrolled": true
   },
   "outputs": [
    {
     "name": "stdout",
     "output_type": "stream",
     "text": [
      "MLP LOGO-CV-Accuracy:  0.7085044487262049\n",
      "Random Forest LOGO-CV-Accuracy:  0.7594145289611369\n"
     ]
    }
   ],
   "source": [
    "# Seed\n",
    "np.random.seed(1111)\n",
    "\n",
    "logo = LeaveOneGroupOut()\n",
    "logo.get_n_splits(groups=train_data[\"group\"].values)\n",
    "\n",
    "# MLP\n",
    "mlp = MLPClassifier(hidden_layer_sizes=(50,), max_iter=100, early_stopping = True, random_state=42)\n",
    "mlp_res = cross_validate(mlp, x_train, y_train, cv=logo, n_jobs=-1, groups = train_data[\"group\"].values,\n",
    "                         return_estimator=False, return_train_score=True)\n",
    "\n",
    "# RF\n",
    "rf = RandomForestClassifier(n_estimators=100, max_depth=3, random_state=42)\n",
    "rf_res = cross_validate(rf, x_train, y_train, cv=logo, n_jobs=-1, groups = train_data[\"group\"].values,\n",
    "                        return_estimator=False, return_train_score=True)\n",
    "\n",
    "print(\"MLP LOGO-CV-Accuracy: \", mlp_res[\"test_score\"].mean())\n",
    "print(\"Random Forest LOGO-CV-Accuracy: \", rf_res[\"test_score\"].mean())"
   ]
  },
  {
   "cell_type": "markdown",
   "metadata": {},
   "source": [
    "## 4.4 Recursive Feature Elimination"
   ]
  },
  {
   "cell_type": "code",
   "execution_count": 21,
   "metadata": {
    "scrolled": true
   },
   "outputs": [
    {
     "name": "stdout",
     "output_type": "stream",
     "text": [
      "Random Forest - RFE -  LOGO-CV-Accuracy:  0.7653243356170701\n"
     ]
    }
   ],
   "source": [
    "# Seed\n",
    "np.random.seed(1212)\n",
    "\n",
    "rfe = RFE(rf, n_features_to_select=10, step=1, verbose=0)\n",
    "rfe.fit(x_train,y_train)\n",
    "\n",
    "# evaluate\n",
    "selected_features = x_train.columns[rfe.support_]\n",
    "x_train_new = x_train[selected_features]\n",
    "\n",
    "rf_res_new = cross_validate(rf, x_train_new, y_train, n_jobs=2, cv=logo, groups = train_data[\"group\"].values,\n",
    "                         return_estimator=False, return_train_score=True)\n",
    "print(\"Random Forest - RFE -  LOGO-CV-Accuracy: \", rf_res_new[\"test_score\"].mean())"
   ]
  },
  {
   "cell_type": "markdown",
   "metadata": {},
   "source": [
    "## 4.5 Classifier with Bayes-Optimization"
   ]
  },
  {
   "cell_type": "code",
   "execution_count": 22,
   "metadata": {},
   "outputs": [],
   "source": [
    "# set budget for Optimization\n",
    "max_iters = 10"
   ]
  },
  {
   "cell_type": "markdown",
   "metadata": {},
   "source": [
    "### 4.5.1. MLP"
   ]
  },
  {
   "cell_type": "code",
   "execution_count": 23,
   "metadata": {},
   "outputs": [
    {
     "name": "stdout",
     "output_type": "stream",
     "text": [
      "100%|███████████████████████████████████████████████| 10/10 [04:21<00:00, 23.67s/trial, best loss: -0.7622958150920304]\n",
      "best: \n",
      "{'hidden_layer_sizes': 43, 'max_iter': 232}\n"
     ]
    },
    {
     "name": "stderr",
     "output_type": "stream",
     "text": [
      "C:\\Users\\admin\\AppData\\Roaming\\Python\\Python37\\site-packages\\sklearn\\neural_network\\_multilayer_perceptron.py:585: ConvergenceWarning: Stochastic Optimizer: Maximum iterations (232) reached and the optimization hasn't converged yet.\n",
      "  % self.max_iter, ConvergenceWarning)\n"
     ]
    },
    {
     "data": {
      "text/plain": [
       "MLPClassifier(hidden_layer_sizes=43, max_iter=232)"
      ]
     },
     "execution_count": 23,
     "metadata": {},
     "output_type": "execute_result"
    }
   ],
   "source": [
    "from hyperopt import Trials, STATUS_OK, tpe, fmin, hp\n",
    "# set seeds\n",
    "np.random.seed(4321)\n",
    "\n",
    "# define space\n",
    "mlp_space = {'hidden_layer_sizes' : hp.quniform('hidden_layer_sizes',5,50,1),\n",
    "             'max_iter' : hp.quniform(\"max_iter\",10,500,1)}\n",
    "\n",
    "def mlp_opt(params):\n",
    "    from sklearn.model_selection import LeaveOneGroupOut\n",
    "    from sklearn.neural_network import MLPClassifier\n",
    "    from sklearn.model_selection import cross_validate\n",
    "    \n",
    "    params[\"hidden_layer_sizes\"] = int(params[\"hidden_layer_sizes\"])\n",
    "    params[\"max_iter\"] = int(params[\"max_iter\"])\n",
    "    \n",
    "    mlp = MLPClassifier(hidden_layer_sizes= params[\"hidden_layer_sizes\"], max_iter= params[\"max_iter\"], random_state=42)\n",
    "    mlp = cross_validate(mlp, x_train_new, y_train, cv=10, n_jobs=2,\n",
    "                         return_estimator=False, return_train_score=True)\n",
    "    \n",
    "    score = -1* mlp[\"test_score\"].mean()\n",
    "    return {'loss': score, 'status': STATUS_OK, 'model': None, 'params': params}\n",
    "\n",
    "### optimization\n",
    "trials = Trials()\n",
    "best_mlp = fmin(mlp_opt, mlp_space, algo=tpe.suggest, max_evals= max_iters,trials=trials,\n",
    "                rstate= np.random.RandomState(1234))\n",
    "print('best: ')\n",
    "### Extract params\n",
    "best_MLP_params = trials.results[np.argmin([r['loss'] for r in trials.results])]['params']\n",
    "print(best_MLP_params)\n",
    "# Extract Model\n",
    "MLP_model = MLPClassifier(hidden_layer_sizes = best_MLP_params[\"hidden_layer_sizes\"], max_iter = best_MLP_params[\"max_iter\"])\n",
    "MLP_model.fit(x_train_new, y_train)"
   ]
  },
  {
   "cell_type": "markdown",
   "metadata": {},
   "source": [
    "### 4.5.2. Random Forest"
   ]
  },
  {
   "cell_type": "code",
   "execution_count": 24,
   "metadata": {},
   "outputs": [
    {
     "name": "stdout",
     "output_type": "stream",
     "text": [
      "100%|███████████████████████████████████████████████| 10/10 [03:47<00:00, 20.24s/trial, best loss: -0.7656476163907526]\n",
      "best: \n",
      "{'max_depth': 3, 'n_estimators': 156}\n"
     ]
    },
    {
     "data": {
      "text/plain": [
       "RandomForestClassifier(max_depth=3, n_estimators=156)"
      ]
     },
     "execution_count": 24,
     "metadata": {},
     "output_type": "execute_result"
    }
   ],
   "source": [
    "from hyperopt import Trials, STATUS_OK, tpe, fmin, hp\n",
    "# set seeds\n",
    "np.random.seed(4321)\n",
    "\n",
    "# define space\n",
    "rf_space = {'n_estimators' : hp.quniform('n_estimators',5,500,1),\n",
    "             'max_depth' : hp.quniform(\"max_depth\",1,3,1)}\n",
    "\n",
    "def rf_opt(params):\n",
    "    from sklearn.model_selection import LeaveOneGroupOut\n",
    "    from sklearn.neural_network import MLPClassifier\n",
    "    from sklearn.model_selection import cross_validate\n",
    "    \n",
    "    logo = LeaveOneGroupOut()\n",
    "    logo.get_n_splits(groups=train_data[\"group\"].values)\n",
    "    \n",
    "    params[\"n_estimators\"] = int(params[\"n_estimators\"])\n",
    "    params[\"max_depth\"] = int(params[\"max_depth\"])\n",
    "    \n",
    "    rf = RandomForestClassifier(n_estimators=params[\"n_estimators\"], max_depth=params[\"max_depth\"], random_state=42)\n",
    "    rf = cross_validate(rf, x_train_new, y_train, cv=logo, n_jobs=2, groups = train_data[\"group\"].values,\n",
    "                         return_estimator=False, return_train_score=True)\n",
    "    \n",
    "    score = -1* rf[\"test_score\"].mean()\n",
    "    return {'loss': score, 'status': STATUS_OK, 'model': None, 'params': params}\n",
    "\n",
    "### optimization\n",
    "trials = Trials()\n",
    "best_rf = fmin(rf_opt, rf_space, algo=tpe.suggest, max_evals= max_iters,trials=trials,\n",
    "                rstate= np.random.RandomState(1234))\n",
    "print('best: ')\n",
    "### Extract params\n",
    "best_RF_params = trials.results[np.argmin([r['loss'] for r in trials.results])]['params']\n",
    "print(best_RF_params)\n",
    "# Extract Model\n",
    "RF_model = RandomForestClassifier(n_estimators = best_RF_params[\"n_estimators\"], max_depth = best_RF_params[\"max_depth\"])\n",
    "RF_model.fit(x_train_new, y_train)"
   ]
  },
  {
   "cell_type": "markdown",
   "metadata": {},
   "source": [
    "## 4.6 Evaluate on Test-Data"
   ]
  },
  {
   "cell_type": "code",
   "execution_count": 25,
   "metadata": {},
   "outputs": [
    {
     "data": {
      "text/plain": [
       "0.6596931659693166"
      ]
     },
     "execution_count": 25,
     "metadata": {},
     "output_type": "execute_result"
    }
   ],
   "source": [
    "RF_model.score(x_test[selected_features],y_test)"
   ]
  },
  {
   "cell_type": "markdown",
   "metadata": {},
   "source": [
    "## 4.7 Refit Random Forest using all data"
   ]
  },
  {
   "cell_type": "code",
   "execution_count": 26,
   "metadata": {
    "scrolled": true
   },
   "outputs": [
    {
     "data": {
      "text/plain": [
       "RandomForestClassifier(max_depth=3, n_estimators=156)"
      ]
     },
     "execution_count": 26,
     "metadata": {},
     "output_type": "execute_result"
    }
   ],
   "source": [
    "X = x_train.append(x_test)\n",
    "y = np.concatenate([y_train, y_test])\n",
    "RF_model.fit(X[selected_features], y )"
   ]
  },
  {
   "cell_type": "code",
   "execution_count": 27,
   "metadata": {},
   "outputs": [
    {
     "data": {
      "text/plain": [
       "array(['shaking', 'sitting', 'standing', 'walking', 'waving'],\n",
       "      dtype=object)"
      ]
     },
     "execution_count": 27,
     "metadata": {},
     "output_type": "execute_result"
    }
   ],
   "source": [
    "# Print classes to check if js output is valid\n",
    "RF_model.classes_"
   ]
  },
  {
   "cell_type": "markdown",
   "metadata": {},
   "source": [
    "## 4.8 Export Model"
   ]
  },
  {
   "cell_type": "code",
   "execution_count": null,
   "metadata": {},
   "outputs": [],
   "source": [
    "from sklearn_porter import Porter\n",
    "\n",
    "# export model using Porter\n",
    "porter = Porter(RF_model, language='js')\n",
    "output = porter.export(embed_data=True)\n",
    "# print(output)\n",
    "\n",
    "\n",
    "# write String to JS-TextFile\n",
    "text_file = open(\"random-forest.js\", \"w\")\n",
    "text_file.write(output)\n",
    "text_file.close()"
   ]
  },
  {
   "cell_type": "markdown",
   "metadata": {},
   "source": [
    "# Appendix: Comparison of different classification methods: Why we choose RF and MLP"
   ]
  },
  {
   "cell_type": "code",
   "execution_count": null,
   "metadata": {},
   "outputs": [],
   "source": [
    "from sklearn.datasets import fetch_covtype\n",
    "from sklearn.metrics import precision_recall_fscore_support,matthews_corrcoef\n",
    "from sklearn.model_selection import train_test_split\n",
    "\n",
    "from sklearn.neural_network import MLPClassifier\n",
    "from sklearn.neighbors import KNeighborsClassifier\n",
    "from sklearn.svm import SVC\n",
    "from sklearn.tree import DecisionTreeClassifier\n",
    "from sklearn.ensemble import RandomForestClassifier\n",
    "from sklearn.naive_bayes import GaussianNB\n",
    "from sklearn.linear_model import LogisticRegression"
   ]
  },
  {
   "cell_type": "code",
   "execution_count": null,
   "metadata": {},
   "outputs": [],
   "source": [
    "### define and name set of classifiers to evaluate predictions of different methods ###\n",
    "classifiers = [KNeighborsClassifier(3),\n",
    "               KNeighborsClassifier(5),\n",
    "               KNeighborsClassifier(10),\n",
    "               DecisionTreeClassifier(max_depth=5),\n",
    "               DecisionTreeClassifier(max_depth=10),\n",
    "               DecisionTreeClassifier(max_depth=20),\n",
    "               RandomForestClassifier(n_estimators=1000, max_depth=3),\n",
    "               RandomForestClassifier(n_estimators=1000, max_depth=5),\n",
    "               LogisticRegression(max_iter=100000),\n",
    "               GaussianNB(),\n",
    "               MLPClassifier(hidden_layer_sizes=(100, 100, 100),\n",
    "                             max_iter=10000, activation='relu'),\n",
    "               MLPClassifier(hidden_layer_sizes=(100, 100, 100),\n",
    "                             max_iter=10000, activation='tanh')]\n",
    "\n",
    "clf_names = [\"Nearest Neighbors (k=3)\",\n",
    "             \"Nearest Neighbors (k=5)\",\n",
    "             \"Nearest Neighbors (k=10)\",\n",
    "             \"Decision Tree (Max Depth=5)\",\n",
    "             \"Decision Tree (Max Depth=10)\",\n",
    "             \"Decision Tree (Max Depth=20)\",\n",
    "             \"Random Forest (Max Depth=3)\",\n",
    "             \"Random Forest (Max Depth=5)\",\n",
    "             \"Logistic Regression\",\n",
    "             \"Gaussian Naive Bayes\",\n",
    "             \"MLP (RelU)\",\n",
    "             \"MLP (tanh)\"]"
   ]
  },
  {
   "cell_type": "code",
   "execution_count": null,
   "metadata": {},
   "outputs": [],
   "source": [
    "scores_micro = dict()\n",
    "scores_macro = dict()\n",
    "scores_mcc = dict()\n",
    "\n",
    "for name, clf in zip(clf_names, classifiers):\n",
    "    print(\"fitting classifier\", name)\n",
    "    clf.fit(x_train, y_train)\n",
    "    print(\"predicting labels for classifier\", name)\n",
    "    y_pred = clf.predict(x_test)\n",
    "    scores_micro[name] = precision_recall_fscore_support(\n",
    "        y_test, y_pred, average=\"micro\")\n",
    "    scores_macro[name] = precision_recall_fscore_support(\n",
    "        y_test, y_pred, average=\"macro\")\n",
    "    scores_mcc[name] = matthews_corrcoef(y_test, y_pred)\n",
    "\n",
    "# micro aggregates the contributions of all classes to compute the average metric --> good for class imbalance\n",
    "scores_micro_df = pd.DataFrame(scores_micro, index=[\n",
    "                               'precision (micro)', 'recall (micro)', 'fscore (micro)', 'support'])\n",
    "scores_micro_df = scores_micro_df[0:3]\n",
    "# macro computes the metric independently for each class and then take the average\n",
    "scores_macro_df = pd.DataFrame(scores_macro, index=[\n",
    "                               'precision (macro)', 'recall (macro)', 'fscore (macro)', 'support'])\n",
    "scores_macro_df = scores_macro_df[0:3]\n",
    "scores_df = scores_macro_df.append(scores_micro_df).append(\n",
    "    pd.Series(scores_mcc, name='MCC'))"
   ]
  },
  {
   "cell_type": "code",
   "execution_count": null,
   "metadata": {},
   "outputs": [],
   "source": [
    "scores_df"
   ]
  },
  {
   "cell_type": "code",
   "execution_count": null,
   "metadata": {},
   "outputs": [],
   "source": [
    "from sklearn.metrics import plot_confusion_matrix\n",
    "import matplotlib.pyplot as plt\n",
    "\n",
    "fig, axes = plt.subplots(1,2, figsize=(12,7))\n",
    "plot_confusion_matrix(classifiers[7], x_test, y_test, cmap=plt.cm.Blues, ax=axes[0])\n",
    "plot_confusion_matrix(classifiers[11], x_test, y_test, cmap=plt.cm.Blues, ax=axes[1])\n",
    "axes[0].set_title(clf_names[7])\n",
    "axes[1].set_title(clf_names[11])\n",
    "plt.show()"
   ]
  }
 ],
 "metadata": {
  "kernelspec": {
   "display_name": "Python 3",
   "language": "python",
   "name": "python3"
  },
  "language_info": {
   "codemirror_mode": {
    "name": "ipython",
    "version": 3
   },
   "file_extension": ".py",
   "mimetype": "text/x-python",
   "name": "python",
   "nbconvert_exporter": "python",
   "pygments_lexer": "ipython3",
   "version": "3.7.3"
  }
 },
 "nbformat": 4,
 "nbformat_minor": 2
}
