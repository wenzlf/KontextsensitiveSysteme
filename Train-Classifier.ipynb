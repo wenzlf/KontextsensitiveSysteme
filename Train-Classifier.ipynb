{
 "cells": [
  {
   "cell_type": "markdown",
   "metadata": {},
   "source": [
    "## Libraries"
   ]
  },
  {
   "cell_type": "code",
   "execution_count": 1,
   "metadata": {},
   "outputs": [],
   "source": [
    "import numpy as np\n",
    "import pandas as pd\n",
    "import seaborn as sns\n",
    "from influxdb import InfluxDBClient, DataFrameClient"
   ]
  },
  {
   "cell_type": "markdown",
   "metadata": {},
   "source": [
    "## Load Data"
   ]
  },
  {
   "cell_type": "code",
   "execution_count": 2,
   "metadata": {},
   "outputs": [],
   "source": [
    "influxClient = DataFrameClient(host='css20.dmz.teco.edu', port=80, database='browser',username=\"user\", password=\"pass\")\n",
    "data = influxClient.query(\"select * FROM devicemotion\")[\"devicemotion\"]"
   ]
  },
  {
   "cell_type": "code",
   "execution_count": 3,
   "metadata": {},
   "outputs": [
    {
     "data": {
      "text/plain": [
       "Index(['acceleration.x', 'acceleration.y', 'acceleration.z',\n",
       "       'accelerationIncludingGravity.x', 'accelerationIncludingGravity.y',\n",
       "       'accelerationIncludingGravity.z', 'label', 'mobile',\n",
       "       'rotationRate.alpha', 'rotationRate.beta', 'rotationRate.gamma',\n",
       "       'subject', 'useragent'],\n",
       "      dtype='object')"
      ]
     },
     "execution_count": 3,
     "metadata": {},
     "output_type": "execute_result"
    }
   ],
   "source": [
    "data.columns"
   ]
  },
  {
   "cell_type": "code",
   "execution_count": 4,
   "metadata": {},
   "outputs": [
    {
     "data": {
      "text/html": [
       "<div>\n",
       "<style scoped>\n",
       "    .dataframe tbody tr th:only-of-type {\n",
       "        vertical-align: middle;\n",
       "    }\n",
       "\n",
       "    .dataframe tbody tr th {\n",
       "        vertical-align: top;\n",
       "    }\n",
       "\n",
       "    .dataframe thead th {\n",
       "        text-align: right;\n",
       "    }\n",
       "</style>\n",
       "<table border=\"1\" class=\"dataframe\">\n",
       "  <thead>\n",
       "    <tr style=\"text-align: right;\">\n",
       "      <th></th>\n",
       "      <th>acceleration.x</th>\n",
       "      <th>acceleration.y</th>\n",
       "      <th>acceleration.z</th>\n",
       "      <th>accelerationIncludingGravity.x</th>\n",
       "      <th>accelerationIncludingGravity.y</th>\n",
       "      <th>accelerationIncludingGravity.z</th>\n",
       "      <th>label</th>\n",
       "      <th>mobile</th>\n",
       "      <th>rotationRate.alpha</th>\n",
       "      <th>rotationRate.beta</th>\n",
       "      <th>rotationRate.gamma</th>\n",
       "      <th>subject</th>\n",
       "      <th>useragent</th>\n",
       "    </tr>\n",
       "  </thead>\n",
       "  <tbody>\n",
       "    <tr>\n",
       "      <th>2020-05-18 15:38:31.330200+00:00</th>\n",
       "      <td>0.0514</td>\n",
       "      <td>-0.4303</td>\n",
       "      <td>1.4837</td>\n",
       "      <td>0.038307</td>\n",
       "      <td>5.439626</td>\n",
       "      <td>9.825804</td>\n",
       "      <td>testing</td>\n",
       "      <td>UnknownPhone</td>\n",
       "      <td>-13.115</td>\n",
       "      <td>-43.004999</td>\n",
       "      <td>0.488</td>\n",
       "      <td>10b5c</td>\n",
       "      <td>Mozilla/5.0 (Linux; Android 7.0; FRD-L19) Appl...</td>\n",
       "    </tr>\n",
       "    <tr>\n",
       "      <th>2020-05-18 15:38:31.348400+00:00</th>\n",
       "      <td>0.6009</td>\n",
       "      <td>-0.1249</td>\n",
       "      <td>1.0312</td>\n",
       "      <td>0.172383</td>\n",
       "      <td>5.477933</td>\n",
       "      <td>9.174581</td>\n",
       "      <td>testing</td>\n",
       "      <td>UnknownPhone</td>\n",
       "      <td>-2.623</td>\n",
       "      <td>-6.527000</td>\n",
       "      <td>-2.379</td>\n",
       "      <td>10b5c</td>\n",
       "      <td>Mozilla/5.0 (Linux; Android 7.0; FRD-L19) Appl...</td>\n",
       "    </tr>\n",
       "  </tbody>\n",
       "</table>\n",
       "</div>"
      ],
      "text/plain": [
       "                                  acceleration.x  acceleration.y  \\\n",
       "2020-05-18 15:38:31.330200+00:00          0.0514         -0.4303   \n",
       "2020-05-18 15:38:31.348400+00:00          0.6009         -0.1249   \n",
       "\n",
       "                                  acceleration.z  \\\n",
       "2020-05-18 15:38:31.330200+00:00          1.4837   \n",
       "2020-05-18 15:38:31.348400+00:00          1.0312   \n",
       "\n",
       "                                  accelerationIncludingGravity.x  \\\n",
       "2020-05-18 15:38:31.330200+00:00                        0.038307   \n",
       "2020-05-18 15:38:31.348400+00:00                        0.172383   \n",
       "\n",
       "                                  accelerationIncludingGravity.y  \\\n",
       "2020-05-18 15:38:31.330200+00:00                        5.439626   \n",
       "2020-05-18 15:38:31.348400+00:00                        5.477933   \n",
       "\n",
       "                                  accelerationIncludingGravity.z    label  \\\n",
       "2020-05-18 15:38:31.330200+00:00                        9.825804  testing   \n",
       "2020-05-18 15:38:31.348400+00:00                        9.174581  testing   \n",
       "\n",
       "                                        mobile  rotationRate.alpha  \\\n",
       "2020-05-18 15:38:31.330200+00:00  UnknownPhone             -13.115   \n",
       "2020-05-18 15:38:31.348400+00:00  UnknownPhone              -2.623   \n",
       "\n",
       "                                  rotationRate.beta  rotationRate.gamma  \\\n",
       "2020-05-18 15:38:31.330200+00:00         -43.004999               0.488   \n",
       "2020-05-18 15:38:31.348400+00:00          -6.527000              -2.379   \n",
       "\n",
       "                                 subject  \\\n",
       "2020-05-18 15:38:31.330200+00:00   10b5c   \n",
       "2020-05-18 15:38:31.348400+00:00   10b5c   \n",
       "\n",
       "                                                                          useragent  \n",
       "2020-05-18 15:38:31.330200+00:00  Mozilla/5.0 (Linux; Android 7.0; FRD-L19) Appl...  \n",
       "2020-05-18 15:38:31.348400+00:00  Mozilla/5.0 (Linux; Android 7.0; FRD-L19) Appl...  "
      ]
     },
     "execution_count": 4,
     "metadata": {},
     "output_type": "execute_result"
    }
   ],
   "source": [
    "data.head(2)"
   ]
  },
  {
   "cell_type": "code",
   "execution_count": 5,
   "metadata": {},
   "outputs": [
    {
     "data": {
      "text/plain": [
       "(346487, 13)"
      ]
     },
     "execution_count": 5,
     "metadata": {},
     "output_type": "execute_result"
    }
   ],
   "source": [
    "data.shape"
   ]
  },
  {
   "cell_type": "markdown",
   "metadata": {},
   "source": [
    "## Data Cleaning"
   ]
  },
  {
   "cell_type": "code",
   "execution_count": 6,
   "metadata": {},
   "outputs": [
    {
     "data": {
      "text/plain": [
       "(179951, 13)"
      ]
     },
     "execution_count": 6,
     "metadata": {},
     "output_type": "execute_result"
    }
   ],
   "source": [
    "data = data.loc['2020-07-01':].dropna()\n",
    "data.shape"
   ]
  },
  {
   "cell_type": "markdown",
   "metadata": {},
   "source": [
    "## Preprocessing"
   ]
  },
  {
   "cell_type": "code",
   "execution_count": 7,
   "metadata": {},
   "outputs": [],
   "source": [
    "# Extract labels and subjects\n",
    "labels = data['label'].unique()\n",
    "subjects = data['subject'].unique()\n",
    "\n",
    "# Group data according to labels and subjects\n",
    "grouped_data = {}\n",
    "for subject in subjects:\n",
    "    grouped_data[subject] = {}\n",
    "    subject_data = data[data['subject'] == subject]\n",
    "    for label in labels:\n",
    "        grouped_data[subject][label] = subject_data[subject_data[\"label\"] == label]"
   ]
  },
  {
   "cell_type": "markdown",
   "metadata": {},
   "source": [
    "## Windowing"
   ]
  },
  {
   "cell_type": "code",
   "execution_count": 8,
   "metadata": {},
   "outputs": [],
   "source": [
    "def minmax(data):\n",
    "    return np.max(data)-np.min(data)"
   ]
  },
  {
   "cell_type": "code",
   "execution_count": 9,
   "metadata": {},
   "outputs": [],
   "source": [
    "# Prepare aggregation\n",
    "numeric_columns = {}\n",
    "for col, dtype in zip(data.columns, data.dtypes):\n",
    "    if dtype == 'float64':\n",
    "        numeric_columns[col] = ['max', 'mean', 'min',\"std\", \"var\",minmax]"
   ]
  },
  {
   "cell_type": "code",
   "execution_count": 11,
   "metadata": {},
   "outputs": [],
   "source": [
    "aggregatedDict = {}\n",
    "for subject in subjects:\n",
    "    aggregatedDict[subject] = {}\n",
    "    for label in labels:\n",
    "        # check if part is empty\n",
    "        if(not grouped_data[subject][label].empty):\n",
    "            # use resample for frequency conversion \n",
    "            aggregatedDict[subject][label] = grouped_data[subject][label].resample('1s').agg(numeric_columns).dropna()"
   ]
  },
  {
   "cell_type": "markdown",
   "metadata": {},
   "source": [
    "## Data Transformation"
   ]
  },
  {
   "cell_type": "code",
   "execution_count": 19,
   "metadata": {},
   "outputs": [],
   "source": [
    "# groups for Leave-One-Subject-Out-CV\n",
    "groups = []\n",
    "\n",
    "# Transform data into ungrouped and flat table\n",
    "data = pd.DataFrame()\n",
    "for subject in subjects:\n",
    "    for label in labels:\n",
    "        if label in aggregatedDict[subject]:\n",
    "            curr_data = aggregatedDict[subject][label]\n",
    "            curr_labels = len(curr_data)*[label]\n",
    "            curr_data[\"label\"] = curr_labels\n",
    "            data = data.append(curr_data)\n",
    "            groups.extend(len(curr_data)*[subject])"
   ]
  },
  {
   "cell_type": "markdown",
   "metadata": {},
   "source": [
    "## Train-Test Split (Leave-one-Subject-out)"
   ]
  },
  {
   "cell_type": "code",
   "execution_count": null,
   "metadata": {},
   "outputs": [],
   "source": [
    "from sklearn.model_selection import LeaveOneGroupOut\n",
    "\n",
    "X = np.array([[1, 2], [3, 4], [5, 6], [7, 8]])\n",
    "y = np.array([1, 2, 1, 2])\n",
    "groups = np.array([1, 1, 2, 2])\n",
    "logo = LeaveOneGroupOut()\n",
    "logo.get_n_splits(X, y, groups)\n",
    "logo.get_n_splits(groups=groups)  # 'groups' is always required"
   ]
  }
 ],
 "metadata": {
  "kernelspec": {
   "display_name": "Python 3",
   "language": "python",
   "name": "python3"
  },
  "language_info": {
   "codemirror_mode": {
    "name": "ipython",
    "version": 3
   },
   "file_extension": ".py",
   "mimetype": "text/x-python",
   "name": "python",
   "nbconvert_exporter": "python",
   "pygments_lexer": "ipython3",
   "version": "3.7.3"
  }
 },
 "nbformat": 4,
 "nbformat_minor": 2
}
